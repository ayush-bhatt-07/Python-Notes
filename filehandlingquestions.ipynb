{
 "cells": [
  {
   "cell_type": "markdown",
   "metadata": {},
   "source": [
    "# Module: File Handling Assignments\n",
    "## Lesson: File Handling and Operations\n",
    "### Assignment 1: Reading a File\n",
    "\n",
    "Write a function that reads the contents of a file named `sample.txt` and prints each line.\n",
    "\n",
    "### Assignment 2: Writing to a File\n",
    "\n",
    "Write a function that writes a list of strings to a file named `output.txt`, with each string on a new line.\n",
    "\n",
    "### Assignment 3: Copying a File\n",
    "\n",
    "Write a function that copies the contents of a file named `source.txt` to a new file named `destination.txt`.\n",
    "\n",
    "### Assignment 4: Appending to a File\n",
    "\n",
    "Write a function that appends a given string to the end of a file named `log.txt`.\n",
    "\n",
    "### Assignment 5: Counting Words in a File\n",
    "\n",
    "Write a function that reads the contents of a file named `document.txt` and returns the number of words in the file.\n",
    "\n",
    "### Assignment 6: Finding and Replacing Text\n",
    "\n",
    "Write a function that finds and replaces all occurrences of a given word in a file named `data.txt` with another word.\n",
    "\n",
    "### Assignment 7: Reading a File in Reverse\n",
    "\n",
    "Write a function that reads the contents of a file named `reverse.txt` and prints each line in reverse order.\n",
    "\n",
    "### Assignment 8: Counting Lines, Words, and Characters\n",
    "\n",
    "Write a function that reads the contents of a file named `stats.txt` and returns the number of lines, words, and characters in the file.\n",
    "\n",
    "### Assignment 9: Merging Multiple Files\n",
    "\n",
    "Write a function that merges the contents of multiple files into a single file named `merged.txt`.\n",
    "\n",
    "### Assignment 10: Splitting a Large File\n",
    "\n",
    "Write a function that splits a large file named `large.txt` into smaller files of 100 lines each.\n",
    "\n",
    "### Assignment 11: Creating a Log File\n",
    "\n",
    "Write a function that creates a log file named `activity.log` and writes log messages with timestamps.\n",
    "\n",
    "### Assignment 12: Binary File Operations\n",
    "\n",
    "Write a function that reads a binary file named `image.bin` and writes its contents to another binary file named `copy_image.bin`.\n",
    "\n",
    "### Assignment 13: CSV File Operations\n",
    "\n",
    "Write a function that reads a CSV file named `data.csv` and prints its contents as a list of dictionaries.\n",
    "\n",
    "### Assignment 14: JSON File Operations\n",
    "\n",
    "Write a function that reads a JSON file named `data.json` and prints its contents as a Python dictionary.\n",
    "\n",
    "### Assignment 15: File Permission Handling\n",
    "\n",
    "Write a function that attempts to read a file named `protected.txt` and handles any permission errors gracefully by printing an error message."
   ]
  },
  {
   "cell_type": "code",
   "execution_count": null,
   "metadata": {},
   "outputs": [
    {
     "ename": "NameError",
     "evalue": "name 'lines' is not defined",
     "output_type": "error",
     "traceback": [
      "\u001b[31m---------------------------------------------------------------------------\u001b[39m",
      "\u001b[31mNameError\u001b[39m                                 Traceback (most recent call last)",
      "\u001b[36mCell\u001b[39m\u001b[36m \u001b[39m\u001b[32mIn[17]\u001b[39m\u001b[32m, line 6\u001b[39m\n\u001b[32m      4\u001b[39m             lines=\u001b[38;5;28minput\u001b[39m(\u001b[33m\"\u001b[39m\u001b[33mEnter the line: \u001b[39m\u001b[33m\"\u001b[39m)\n\u001b[32m      5\u001b[39m             \u001b[38;5;28mprint\u001b[39m(line.append(lines))\n\u001b[32m----> \u001b[39m\u001b[32m6\u001b[39m writefile(\u001b[43mlines\u001b[49m,\u001b[33m'\u001b[39m\u001b[33msample.txt\u001b[39m\u001b[33m'\u001b[39m)\n",
      "\u001b[31mNameError\u001b[39m: name 'lines' is not defined"
     ]
    }
   ],
   "source": [
    "def write_file(lines, filename):\n",
    "    with open(filename, 'w') as file:\n",
    "        for line in lines:\n",
    "            file.write(line + '\\n')\n",
    "\n",
    "\n",
    "# Example usage\n",
    "lines = [\"This is line 1\", \"This is line 2\", \"This is line 3\"]\n",
    "write_file(lines, \"sample.txt\")\n",
    "\n",
    "# Another test\n",
    "write_file(['Hello', 'World'], 'output.txt')\n"
   ]
  },
  {
   "cell_type": "code",
   "execution_count": 21,
   "id": "8e6452a3",
   "metadata": {},
   "outputs": [
    {
     "name": "stdout",
     "output_type": "stream",
     "text": [
      "13\n"
     ]
    }
   ],
   "source": [
    "def word_count(filename):\n",
    "    with open(filename,'r')as file:\n",
    "        text=file.read()\n",
    "        word=text.split()\n",
    "        print(len(word))\n",
    "\n",
    "word_count('sample.txt')\n"
   ]
  },
  {
   "cell_type": "code",
   "execution_count": 6,
   "id": "b19074f2",
   "metadata": {},
   "outputs": [],
   "source": [
    "def copyfile(source,destination):\n",
    "    with open(source,'r') as src:\n",
    "        with open(destination,'w') as dest:\n",
    "            dest.write(src.read())\n",
    "copyfile('source.txt', 'destination.txt')\n",
    "        "
   ]
  },
  {
   "cell_type": "code",
   "execution_count": null,
   "id": "951d25fb",
   "metadata": {},
   "outputs": [],
   "source": [
    "def appendfile(filename):\n",
    "    with open (filename,'r') as file:"
   ]
  },
  {
   "cell_type": "code",
   "execution_count": 13,
   "id": "15febe72",
   "metadata": {},
   "outputs": [
    {
     "name": "stdout",
     "output_type": "stream",
     "text": [
      "my name is binod\n",
      "i am a marvel fan\n",
      "i talk to many girls\n",
      "i am a good boy\n",
      "i love photography\n"
     ]
    }
   ],
   "source": [
    "def read_file(filename):\n",
    "    try:\n",
    "        with open(filename, 'r') as file:\n",
    "            for line in file:\n",
    "                print(line.strip())\n",
    "    except FileNotFoundError:\n",
    "        print(f\"Error: File '{filename}' not found.\")\n",
    "\n",
    "# Call the function\n",
    "read_file('sample.txt')\n"
   ]
  }
 ],
 "metadata": {
  "kernelspec": {
   "display_name": "Python 3",
   "language": "python",
   "name": "python3"
  },
  "language_info": {
   "codemirror_mode": {
    "name": "ipython",
    "version": 3
   },
   "file_extension": ".py",
   "mimetype": "text/x-python",
   "name": "python",
   "nbconvert_exporter": "python",
   "pygments_lexer": "ipython3",
   "version": "3.13.6"
  }
 },
 "nbformat": 4,
 "nbformat_minor": 5
}
