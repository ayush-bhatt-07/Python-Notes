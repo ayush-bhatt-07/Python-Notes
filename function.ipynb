{
 "cells": [
  {
   "cell_type": "code",
   "execution_count": 8,
   "id": "094728f3",
   "metadata": {},
   "outputs": [
    {
     "name": "stdout",
     "output_type": "stream",
     "text": [
      "Cost of all items is 1700\n"
     ]
    }
   ],
   "source": [
    "def Shopping_list():\n",
    "    total=0\n",
    "    items={\"Ball\":100,\"Bat\":400,\"Racquet\":1000,\"Net\":200}\n",
    "    for i in items.values():\n",
    "        total=total+i\n",
    "    print(\"Cost of all items is\",total)\n",
    "Shopping_list()"
   ]
  },
  {
   "cell_type": "code",
   "execution_count": 1,
   "id": "286140a1",
   "metadata": {},
   "outputs": [
    {
     "data": {
      "text/plain": [
       "False"
      ]
     },
     "execution_count": 1,
     "metadata": {},
     "output_type": "execute_result"
    }
   ],
   "source": [
    "def password_strength(password):\n",
    "    if len(password)>8:\n",
    "        return False\n",
    "    if not any(char.isupper() for char in password):\n",
    "        return False\n",
    "    if not any(char.islower() for char in password):\n",
    "        return False\n",
    "    if not any(char.isdigit() for char in password):\n",
    "        return False\n",
    "    if not any(char in \"!@#$%^&*()\" for char in password):\n",
    "        return False\n",
    "    \n",
    "    \n",
    "    else:\n",
    "        return True\n",
    "password= input(\"Enter a password to check its strength\")\n",
    "password_strength(password)\n"
   ]
  },
  {
   "cell_type": "code",
   "execution_count": 5,
   "id": "beba7cf2",
   "metadata": {},
   "outputs": [
    {
     "name": "stdout",
     "output_type": "stream",
     "text": [
      "[5, 7, 9]\n"
     ]
    }
   ],
   "source": [
    "numbers1= [1,2,3]\n",
    "numbers2=[4,5,6]\n",
    "result= list(map (lambda x,y:x+y,numbers1,numbers2))\n",
    "print(result)"
   ]
  },
  {
   "cell_type": "code",
   "execution_count": 6,
   "id": "a589069a",
   "metadata": {},
   "outputs": [
    {
     "name": "stdout",
     "output_type": "stream",
     "text": [
      "['AYUSH', 'PYTHON', 'CODING']\n"
     ]
    }
   ],
   "source": [
    "names = [\"ayush\", \"python\", \"coding\"]\n",
    "uppercased = list(map(str.upper, names))\n",
    "print(uppercased)\n"
   ]
  }
 ],
 "metadata": {
  "kernelspec": {
   "display_name": "Python 3",
   "language": "python",
   "name": "python3"
  },
  "language_info": {
   "codemirror_mode": {
    "name": "ipython",
    "version": 3
   },
   "file_extension": ".py",
   "mimetype": "text/x-python",
   "name": "python",
   "nbconvert_exporter": "python",
   "pygments_lexer": "ipython3",
   "version": "3.13.6"
  }
 },
 "nbformat": 4,
 "nbformat_minor": 5
}
