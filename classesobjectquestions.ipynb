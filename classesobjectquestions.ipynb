{
 "cells": [
  {
   "cell_type": "markdown",
   "metadata": {},
   "source": [
    "# Module: Classes and Objects Assignments\n",
    "## Lesson: Creating and Working with Classes and Objects\n",
    "### Assignment 1: Basic Class and Object Creation\n",
    "\n",
    "Create a class named `Car` with attributes `make`, `model`, and `year`. Create an object of the class and print its attributes.\n",
    "\n",
    "### Assignment 2: Methods in Class\n",
    "\n",
    "Add a method named `start_engine` to the `Car` class that prints a message when the engine starts. Create an object of the class and call the method.\n",
    "\n",
    "### Assignment 3: Class with Constructor\n",
    "\n",
    "Create a class named `Student` with attributes `name` and `age`. Use a constructor to initialize these attributes. Create an object of the class and print its attributes.\n",
    "\n",
    "### Assignment 4: Class with Private Attributes\n",
    "\n",
    "Create a class named `BankAccount` with private attributes `account_number` and `balance`. Add methods to deposit and withdraw money, and to check the balance. Create an object of the class and perform some operations.\n",
    "\n",
    "### Assignment 5: Class Inheritance\n",
    "\n",
    "Create a base class named `Person` with attributes `name` and `age`. Create a derived class named `Employee` that inherits from `Person` and adds an attribute `employee_id`. Create an object of the derived class and print its attributes.\n",
    "\n",
    "### Assignment 6: Method Overriding\n",
    "\n",
    "In the `Employee` class, override the `__str__` method to return a string representation of the object. Create an object of the class and print it.\n",
    "\n",
    "### Assignment 7: Class Composition\n",
    "\n",
    "Create a class named `Address` with attributes `street`, `city`, and `zipcode`. Create a class named `Person` that has an `Address` object as an attribute. Create an object of the `Person` class and print its address.\n",
    "\n",
    "### Assignment 8: Class with Class Variables\n",
    "\n",
    "Create a class named `Counter` with a class variable `count`. Each time an object is created, increment the count. Add a method to get the current count. Create multiple objects and print the count.\n",
    "\n",
    "### Assignment 9: Static Methods\n",
    "\n",
    "Create a class named `MathOperations` with a static method to calculate the square root of a number. Call the static method without creating an object.\n",
    "\n",
    "### Assignment 10: Class with Properties\n",
    "\n",
    "Create a class named `Rectangle` with private attributes `length` and `width`. Use properties to get and set these attributes. Create an object of the class and test the properties.\n",
    "\n",
    "### Assignment 11: Abstract Base Class\n",
    "\n",
    "Create an abstract base class named `Shape` with an abstract method `area`. Create derived classes `Circle` and `Square` that implement the `area` method. Create objects of the derived classes and call the `area` method.\n",
    "\n",
    "### Assignment 12: Operator Overloading\n",
    "\n",
    "Create a class named `Vector` with attributes `x` and `y`. Overload the `+` operator to add two `Vector` objects. Create objects of the class and test the operator overloading.\n",
    "\n",
    "### Assignment 13: Class with Custom Exception\n",
    "\n",
    "Create a custom exception named `InsufficientBalanceError`. In the `BankAccount` class, raise this exception when a withdrawal amount is greater than the balance. Handle the exception and print an appropriate message.\n",
    "\n",
    "### Assignment 14: Class with Context Manager\n",
    "\n",
    "Create a class named `FileManager` that implements the context manager protocol to open and close a file. Use this class to read the contents of a file.\n",
    "\n",
    "### Assignment 15: Chaining Methods\n",
    "\n",
    "Create a class named `Calculator` with methods to add, subtract, multiply, and divide. Each method should return the object itself to allow method chaining. Create an object and chain multiple method calls."
   ]
  },
  {
   "cell_type": "code",
   "execution_count": 6,
   "id": "e3cd111f",
   "metadata": {},
   "outputs": [
    {
     "name": "stdout",
     "output_type": "stream",
     "text": [
      "The engine of 2022 Honda Civic has started! 🚗💨\n"
     ]
    }
   ],
   "source": [
    "class Car:\n",
    "    def __init__(self, name, year, model):\n",
    "        self.name = name\n",
    "        self.year = year\n",
    "        self.model = model\n",
    "\n",
    "    def start_engine(self):\n",
    "        print(f\"The engine of {self.year} {self.name} {self.model} has started! 🚗💨\")\n",
    "\n",
    "\n",
    "# Create an object\n",
    "mycar = Car(\"Honda\", 2022, \"Civic\")\n",
    "\n",
    "# Call the method\n",
    "mycar.start_engine()\n"
   ]
  },
  {
   "cell_type": "code",
   "execution_count": 10,
   "id": "2feb9ba1",
   "metadata": {},
   "outputs": [
    {
     "name": "stdout",
     "output_type": "stream",
     "text": [
      "First student is: Ayush\n",
      "Second student is: Aryan\n"
     ]
    }
   ],
   "source": [
    "class Student:\n",
    "    def __init__(self,name,age):\n",
    "        self.name=name\n",
    "        self.age=age\n",
    "\n",
    "student1=Student('Ayush',18)\n",
    "student2=Student('Aryan',18)\n",
    "print(\"First student is:\",student1.name)\n",
    "print(\"Second student is:\",student2.name)\n"
   ]
  },
  {
   "cell_type": "code",
   "execution_count": null,
   "id": "ef547586",
   "metadata": {},
   "outputs": [],
   "source": [
    "print(\"hi\")"
   ]
  },
  {
   "cell_type": "code",
   "execution_count": null,
   "metadata": {},
   "outputs": [],
   "source": [
    "class car:\n",
    "    def __init__(self,name,year,model):\n",
    "        self.name=name\n",
    "        self.year=year\n",
    "        self.model=model\n",
    "        name=input(\"Enter the car name\")\n",
    "        year=int(input(\"Enter the year car was purchsed\"))\n",
    "        model=input(\"Enter Model Name\")\n",
    "        mycar=car(name,year,model)\n",
    "        print(mycar.name)\n",
    "        print(mycar.year)\n",
    "        print(mycar.model)\n",
    "#the mistake i did here is taking and printing input inside the class itslef"
   ]
  },
  {
   "cell_type": "code",
   "execution_count": null,
   "id": "5bba712a",
   "metadata": {},
   "outputs": [],
   "source": []
  },
  {
   "cell_type": "code",
   "execution_count": 4,
   "id": "a7d69c22",
   "metadata": {},
   "outputs": [
    {
     "name": "stdout",
     "output_type": "stream",
     "text": [
      "Car Name: \n",
      "Year Purchased: 2006\n",
      "Model: binod\n"
     ]
    }
   ],
   "source": [
    "class Car:\n",
    "    def __init__(self, name, year, model):\n",
    "        self.name = name\n",
    "        self.year = year\n",
    "        self.model = model\n",
    "\n",
    "# Take input before creating object\n",
    "name = input(\"Enter the car name: \")\n",
    "year = int(input(\"Enter the year car was purchased: \"))\n",
    "model = input(\"Enter Model Name: \")\n",
    "\n",
    "# Create object\n",
    "mycar = Car(name, year, model)\n",
    "\n",
    "\n",
    "# Print attributes\n",
    "print(\"Car Name:\", mycar.name)\n",
    "print(\"Year Purchased:\", mycar.year)\n",
    "print(\"Model:\", mycar.model)\n",
    "\n"
   ]
  },
  {
   "cell_type": "code",
   "execution_count": 5,
   "id": "e9521d63",
   "metadata": {},
   "outputs": [
    {
     "ename": "ValueError",
     "evalue": "invalid literal for int() with base 10: 'bindo'",
     "output_type": "error",
     "traceback": [
      "\u001b[31m---------------------------------------------------------------------------\u001b[39m",
      "\u001b[31mValueError\u001b[39m                                Traceback (most recent call last)",
      "\u001b[36mCell\u001b[39m\u001b[36m \u001b[39m\u001b[32mIn[5]\u001b[39m\u001b[32m, line 11\u001b[39m\n\u001b[32m      9\u001b[39m \u001b[38;5;66;03m# Take input before creating object\u001b[39;00m\n\u001b[32m     10\u001b[39m name = \u001b[38;5;28minput\u001b[39m(\u001b[33m\"\u001b[39m\u001b[33mEnter the car name: \u001b[39m\u001b[33m\"\u001b[39m)\n\u001b[32m---> \u001b[39m\u001b[32m11\u001b[39m year = \u001b[38;5;28;43mint\u001b[39;49m\u001b[43m(\u001b[49m\u001b[38;5;28;43minput\u001b[39;49m\u001b[43m(\u001b[49m\u001b[33;43m\"\u001b[39;49m\u001b[33;43mEnter the year car was purchased: \u001b[39;49m\u001b[33;43m\"\u001b[39;49m\u001b[43m)\u001b[49m\u001b[43m)\u001b[49m\n\u001b[32m     12\u001b[39m model = \u001b[38;5;28minput\u001b[39m(\u001b[33m\"\u001b[39m\u001b[33mEnter Model Name: \u001b[39m\u001b[33m\"\u001b[39m)\n\u001b[32m     14\u001b[39m \u001b[38;5;66;03m# Create object\u001b[39;00m\n",
      "\u001b[31mValueError\u001b[39m: invalid literal for int() with base 10: 'bindo'"
     ]
    }
   ],
   "source": [
    "class Car:\n",
    "    def __init__(self, name, year, model):\n",
    "        self.name = name\n",
    "        self.year = year\n",
    "        self.model = model\n",
    "    def __init__(self,start_engine):\n",
    "        self.start_engine=start_engine\n",
    "\n",
    "# Take input before creating object\n",
    "name = input(\"Enter the car name: \")\n",
    "year = int(input(\"Enter the year car was purchased: \"))\n",
    "model = input(\"Enter Model Name: \")\n",
    "\n",
    "# Create object\n",
    "mycar = Car(name, year, model)\n",
    "mycar=Car(start_engine)\n",
    "\n",
    "# Print attributes\n",
    "print(\"Car Name:\", mycar.name)\n",
    "print(\"Year Purchased:\", mycar.year)\n",
    "print(\"Model:\", mycar.model)\n",
    "print(\"Car has started\",mycar.start_engine)\n"
   ]
  },
  {
   "cell_type": "code",
   "execution_count": null,
   "id": "1cf7350d",
   "metadata": {},
   "outputs": [
    {
     "name": "stdout",
     "output_type": "stream",
     "text": [
      "Car started: True\n"
     ]
    }
   ],
   "source": [
    "class Car:\n",
    "    def __init__(self, name, year, model, start_engine):\n",
    "        self.name = name\n",
    "        self.year = year\n",
    "        self.model = model\n",
    "        self.start_engine = start_engine\n",
    "\n",
    "# Take input\n",
    "name = input(\"Enter the car name: \")\n",
    "year = int(input(\"Enter the year car was purchased: \"))\n",
    "model = input(\"Enter Model Name: \")\n",
    "start_engine = input(\"Has the car started? (yes/no): \")\n",
    "\n",
    "# Create object\n",
    "mycar = Car(name, year, model, start_engine)\n",
    "\n",
    "# Print attributes\n",
    "print(\"Car Name:\", mycar.name)\n",
    "print(\"Year Purchased:\", mycar.year)\n",
    "print(\"Model:\", mycar.model)\n",
    "print(\"Car has started:\", mycar.start_engine)\n",
    "\n",
    "\n",
    "'''\n",
    "either this or Option 3: Use methods instead of multiple __init__\n",
    "\n",
    "class Car:\n",
    "    def __init__(self, name, year, model):\n",
    "        self.name = name\n",
    "        self.year = year\n",
    "        self.model = model\n",
    "        self.start_engine = False   # default\n",
    "\n",
    "    def start(self):\n",
    "        self.start_engine = True\n",
    "\n",
    "mycar = Car(\"Honda\", 2022, \"Civic\")\n",
    "mycar.start()\n",
    "print(\"Car started:\", mycar.start_engine)\n",
    "'''\n"
   ]
  }
 ],
 "metadata": {
  "kernelspec": {
   "display_name": "Python 3",
   "language": "python",
   "name": "python3"
  },
  "language_info": {
   "codemirror_mode": {
    "name": "ipython",
    "version": 3
   },
   "file_extension": ".py",
   "mimetype": "text/x-python",
   "name": "python",
   "nbconvert_exporter": "python",
   "pygments_lexer": "ipython3",
   "version": "3.13.6"
  }
 },
 "nbformat": 4,
 "nbformat_minor": 5
}
